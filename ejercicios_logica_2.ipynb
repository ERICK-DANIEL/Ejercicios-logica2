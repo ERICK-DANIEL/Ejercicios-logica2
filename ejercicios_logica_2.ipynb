{
 "cells": [
  {
   "cell_type": "markdown",
   "id": "fd9e2a67",
   "metadata": {},
   "source": [
    "# Tablas de verdad"
   ]
  },
  {
   "cell_type": "markdown",
   "id": "b2bc69d7",
   "metadata": {},
   "source": [
    "## Martinez Martinez Erick Daniel"
   ]
  },
  {
   "cell_type": "markdown",
   "id": "9797d5a3",
   "metadata": {},
   "source": [
    "De acuerdo con <a href=\"https://platzi.com/clases/3221-pensamiento-logico/50676-que-son-las-tablas-de-verdad/\">Platzi</a>, Las tablas de verdad son herramientas representadas a través de varios gráficos de filas y columnas que muestran todos los posibles escenarios y condiciones de valores de entrada para una operación lógica y su resultado correspondiente.\n",
    "\n",
    "Su función base es mostrar cómo funcionan un circuito electrónico y los programas de una computadora, siendo también un pilar de la lógica proposicional.\n",
    "\n"
   ]
  },
  {
   "cell_type": "markdown",
   "id": "aed5fb6e",
   "metadata": {},
   "source": [
    "<img src=\"https://static.platzi.com/media/user_upload/tablas-verdad-reglas-9ad0f07d-24d4-4a02-aaf5-be8db8711221.jpg\" width=500px>"
   ]
  },
  {
   "cell_type": "markdown",
   "id": "91b0be25",
   "metadata": {},
   "source": [
    "### Una pequeña introduccion sobre variables en PYTHON"
   ]
  },
  {
   "cell_type": "markdown",
   "id": "c37b127c",
   "metadata": {},
   "source": [
    "De acuerdo con <a href=\"https://tutorialpython.com/variables-en-python/\">una web</a>, Una variable es un sitio donde guardamos una determinada información. En función del tipo de información que guardemos (texto, números, booleanas, etc.), la variable será de uno u otro tipo. Por simplicidad sólo vamos a ver las variables de texto y numéricas, ya que son las que se usan en más del 80% de las ocasiones.\n",
    "\n",
    "Cada variable tiene que tener un nombre con el que referirnos a ella. Python tiene en cuenta si escribimos en mayúsculas o minúsculas la variable (lo que se conoce como case sensitive). No es lo mismo una variable que se llame f1 que una que se llame F1. Por ejemplo"
   ]
  },
  {
   "cell_type": "code",
   "execution_count": 1,
   "id": "13f973bb",
   "metadata": {},
   "outputs": [
    {
     "name": "stdout",
     "output_type": "stream",
     "text": [
      "Juan\n"
     ]
    }
   ],
   "source": [
    "nombre = \"Juan\"\n",
    "\n",
    "print(nombre)"
   ]
  },
  {
   "cell_type": "code",
   "execution_count": 2,
   "id": "a4f94301",
   "metadata": {},
   "outputs": [
    {
     "name": "stdout",
     "output_type": "stream",
     "text": [
      "20\n"
     ]
    }
   ],
   "source": [
    "numero = 20\n",
    "\n",
    "print(numero)"
   ]
  },
  {
   "cell_type": "code",
   "execution_count": 3,
   "id": "fc1662dd",
   "metadata": {},
   "outputs": [
    {
     "name": "stdout",
     "output_type": "stream",
     "text": [
      "True\n"
     ]
    }
   ],
   "source": [
    "boleano = True\n",
    "\n",
    "print(boleano)"
   ]
  },
  {
   "cell_type": "code",
   "execution_count": 4,
   "id": "f942066a",
   "metadata": {},
   "outputs": [
    {
     "name": "stdout",
     "output_type": "stream",
     "text": [
      "Escribe tu nombrehola\n",
      "hola\n"
     ]
    }
   ],
   "source": [
    "nombre2 = input(\"Escribe tu nombre: \")\n",
    "\n",
    "print(nombre2)"
   ]
  },
  {
   "cell_type": "code",
   "execution_count": 8,
   "id": "2149c228",
   "metadata": {},
   "outputs": [
    {
     "name": "stdout",
     "output_type": "stream",
     "text": [
      "Ingresa tu edad: 34\n",
      "34\n"
     ]
    }
   ],
   "source": [
    "edad = input(\"Ingresa tu edad: \")\n",
    "\n",
    "print(edad)"
   ]
  },
  {
   "cell_type": "code",
   "execution_count": 9,
   "id": "5bc93580",
   "metadata": {},
   "outputs": [
    {
     "name": "stdout",
     "output_type": "stream",
     "text": [
      "3808\n"
     ]
    }
   ],
   "source": [
    "meses = int(edad)*112\n",
    "\n",
    "print(meses)"
   ]
  },
  {
   "cell_type": "markdown",
   "id": "482aed76",
   "metadata": {},
   "source": [
    "## Regresando a las tablas de verdad"
   ]
  },
  {
   "cell_type": "markdown",
   "id": "15db40d7",
   "metadata": {},
   "source": [
    "En PYTHON existen muchas bibliotecas con diferentes funcioanlidades, casi para todo. Para el caso de las tablas de verdad "
   ]
  },
  {
   "cell_type": "markdown",
   "id": "f5aa4bc7",
   "metadata": {},
   "source": [
    "Para instalarlo es necesario el siguiente comando: "
   ]
  },
  {
   "cell_type": "code",
   "execution_count": null,
   "id": "398f8e70",
   "metadata": {},
   "outputs": [],
   "source": [
    "pip install truth-table-generator"
   ]
  },
  {
   "cell_type": "markdown",
   "id": "81f40b07",
   "metadata": {},
   "source": [
    "Para importar la biblioteca se utiliza:"
   ]
  },
  {
   "cell_type": "code",
   "execution_count": 6,
   "id": "89fd5e3f",
   "metadata": {},
   "outputs": [],
   "source": [
    "import ttg"
   ]
  },
  {
   "cell_type": "markdown",
   "id": "819a67a9",
   "metadata": {},
   "source": [
    "Una tabla de verdad tiene una columna para cada variable de entrada y una columna final que muestra todos los resultados posibles de la operación lógica que representa la tabla. Si la entrada tiene solo una lista de cadenas, cada cadena se considera una variable de entrada:\n",
    "\n",
    "Por ejemplo, si tenemos dos preposisciones: **p, q** podemos escribir el siguiene codigo:"
   ]
  },
  {
   "cell_type": "code",
   "execution_count": 7,
   "id": "5cb1ae29",
   "metadata": {},
   "outputs": [
    {
     "name": "stdout",
     "output_type": "stream",
     "text": [
      "+-----+-----+\n",
      "|  p  |  q  |\n",
      "|-----+-----|\n",
      "|  1  |  1  |\n",
      "|  1  |  0  |\n",
      "|  0  |  1  |\n",
      "|  0  |  0  |\n",
      "+-----+-----+\n"
     ]
    }
   ],
   "source": [
    "print(ttg.Truths(['p', 'q']))"
   ]
  },
  {
   "cell_type": "markdown",
   "id": "4412bd08",
   "metadata": {},
   "source": [
    "Tambien podemos agregar, tres, cuatro o mas preposiciones, por ejemplo:"
   ]
  },
  {
   "cell_type": "code",
   "execution_count": 10,
   "id": "742f9d0b",
   "metadata": {},
   "outputs": [
    {
     "name": "stdout",
     "output_type": "stream",
     "text": [
      "+-----+-----+-----+\n",
      "|  p  |  q  |  r  |\n",
      "|-----+-----+-----|\n",
      "|  1  |  1  |  1  |\n",
      "|  1  |  1  |  0  |\n",
      "|  1  |  0  |  1  |\n",
      "|  1  |  0  |  0  |\n",
      "|  0  |  1  |  1  |\n",
      "|  0  |  1  |  0  |\n",
      "|  0  |  0  |  1  |\n",
      "|  0  |  0  |  0  |\n",
      "+-----+-----+-----+\n"
     ]
    }
   ],
   "source": [
    "print(ttg.Truths(['p', 'q', 'r']))"
   ]
  },
  {
   "cell_type": "code",
   "execution_count": 8,
   "id": "5b03554e",
   "metadata": {
    "scrolled": true
   },
   "outputs": [
    {
     "name": "stdout",
     "output_type": "stream",
     "text": [
      "+-----+-----+-----+-----+\n",
      "|  p  |  q  |  r  |  s  |\n",
      "|-----+-----+-----+-----|\n",
      "|  1  |  1  |  1  |  1  |\n",
      "|  1  |  1  |  1  |  0  |\n",
      "|  1  |  1  |  0  |  1  |\n",
      "|  1  |  1  |  0  |  0  |\n",
      "|  1  |  0  |  1  |  1  |\n",
      "|  1  |  0  |  1  |  0  |\n",
      "|  1  |  0  |  0  |  1  |\n",
      "|  1  |  0  |  0  |  0  |\n",
      "|  0  |  1  |  1  |  1  |\n",
      "|  0  |  1  |  1  |  0  |\n",
      "|  0  |  1  |  0  |  1  |\n",
      "|  0  |  1  |  0  |  0  |\n",
      "|  0  |  0  |  1  |  1  |\n",
      "|  0  |  0  |  1  |  0  |\n",
      "|  0  |  0  |  0  |  1  |\n",
      "|  0  |  0  |  0  |  0  |\n",
      "+-----+-----+-----+-----+\n"
     ]
    }
   ],
   "source": [
    "print(ttg.Truths(['p', 'q', 'r', 's']))"
   ]
  },
  {
   "cell_type": "markdown",
   "id": "7eff8b30",
   "metadata": {},
   "source": [
    "### Operadores y sus representaciones"
   ]
  },
  {
   "cell_type": "markdown",
   "id": "69a226c6",
   "metadata": {},
   "source": [
    "negation: 'not', '-', '~'\n",
    "<br>\n",
    "logical disjunction: 'or'\n",
    "<br>\n",
    "logical nor: 'nor'\n",
    "<br>\n",
    "exclusive disjunction: 'xor', '!='\n",
    "<br>\n",
    "logical conjunction: 'and'\n",
    "<br>\n",
    "logical NAND: 'nand'\n",
    "<br>\n",
    "material implication: '=>', 'implies'\n",
    "<br>\n",
    "logical biconditional: '='"
   ]
  },
  {
   "cell_type": "markdown",
   "id": "1459751b",
   "metadata": {},
   "source": [
    "<b>Nota:</b> ¡Utilice paréntesis! Especialmente con el operador de negación. Utilice las tablas de arriba y de abajo como referencia. Aunque se utilizan reglas de precedencia, a veces la precedencia entre conjunción y disyunción no se especifica y es necesario proporcionarla explícitamente en una fórmula determinada entre paréntesis"
   ]
  },
  {
   "cell_type": "markdown",
   "id": "2ecc9b2b",
   "metadata": {},
   "source": [
    "### EJERCICIOS"
   ]
  },
  {
   "cell_type": "markdown",
   "id": "2d582590",
   "metadata": {},
   "source": [
    "### Ejercicio 1"
   ]
  },
  {
   "cell_type": "code",
   "execution_count": 26,
   "id": "0234a9a2",
   "metadata": {},
   "outputs": [
    {
     "name": "stdout",
     "output_type": "stream",
     "text": [
      "+-----+-----+-----------+\n",
      "|  p  |  q  |  p and q  |\n",
      "|-----+-----+-----------|\n",
      "|  1  |  1  |     1     |\n",
      "|  1  |  0  |     0     |\n",
      "|  0  |  1  |     0     |\n",
      "|  0  |  0  |     0     |\n",
      "+-----+-----+-----------+\n"
     ]
    }
   ],
   "source": [
    "print(ttg.Truths(['p', 'q'], ['p and q']))"
   ]
  },
  {
   "cell_type": "markdown",
   "id": "5ea1cd51",
   "metadata": {},
   "source": [
    "### Ejercicio 2"
   ]
  },
  {
   "cell_type": "code",
   "execution_count": 44,
   "id": "2a523356",
   "metadata": {},
   "outputs": [
    {
     "name": "stdout",
     "output_type": "stream",
     "text": [
      "+-----+-----+-----+---------------------+\n",
      "|  p  |  q  |  r  |  (p and q) and (r)  |\n",
      "|-----+-----+-----+---------------------|\n",
      "|  1  |  1  |  1  |          1          |\n",
      "|  1  |  1  |  0  |          0          |\n",
      "|  1  |  0  |  1  |          0          |\n",
      "|  1  |  0  |  0  |          0          |\n",
      "|  0  |  1  |  1  |          0          |\n",
      "|  0  |  1  |  0  |          0          |\n",
      "|  0  |  0  |  1  |          0          |\n",
      "|  0  |  0  |  0  |          0          |\n",
      "+-----+-----+-----+---------------------+\n"
     ]
    }
   ],
   "source": [
    "print(ttg.Truths(['p', 'q', 'r'], ['(p and q) and (r)']))"
   ]
  },
  {
   "cell_type": "markdown",
   "id": "176b57d9",
   "metadata": {},
   "source": [
    "### Ejercicio 3"
   ]
  },
  {
   "cell_type": "code",
   "execution_count": 47,
   "id": "10025786",
   "metadata": {},
   "outputs": [
    {
     "name": "stdout",
     "output_type": "stream",
     "text": [
      "+-----+-----+---------------------------------+\n",
      "|  p  |  q  |  ~(p => (~q)) and (p and (~q))  |\n",
      "|-----+-----+---------------------------------|\n",
      "|  1  |  1  |                0                |\n",
      "|  1  |  0  |                0                |\n",
      "|  0  |  1  |                0                |\n",
      "|  0  |  0  |                0                |\n",
      "+-----+-----+---------------------------------+\n"
     ]
    }
   ],
   "source": [
    "print(ttg.Truths(['p', 'q'], ['~(p => (~q)) and (p and (~q))']))"
   ]
  },
  {
   "cell_type": "markdown",
   "id": "55a3a2b2",
   "metadata": {},
   "source": [
    "### Ejercicio 4"
   ]
  },
  {
   "cell_type": "code",
   "execution_count": 49,
   "id": "fff18b80",
   "metadata": {},
   "outputs": [
    {
     "name": "stdout",
     "output_type": "stream",
     "text": [
      "+-----+-----+----------------------------+\n",
      "|  p  |  q  |  (p and q) or (p or (~q))  |\n",
      "|-----+-----+----------------------------|\n",
      "|  1  |  1  |             1              |\n",
      "|  1  |  0  |             1              |\n",
      "|  0  |  1  |             0              |\n",
      "|  0  |  0  |             1              |\n",
      "+-----+-----+----------------------------+\n"
     ]
    }
   ],
   "source": [
    "print(ttg.Truths(['p', 'q'], ['(p and q) or (p or (~q))']))"
   ]
  },
  {
   "cell_type": "markdown",
   "id": "0bd07324",
   "metadata": {},
   "source": [
    "### Ejercicio 5"
   ]
  },
  {
   "cell_type": "code",
   "execution_count": 50,
   "id": "726e41a6",
   "metadata": {},
   "outputs": [
    {
     "name": "stdout",
     "output_type": "stream",
     "text": [
      "+-----+-----+-----+-----------------+\n",
      "|  p  |  q  |  r  |  p and q and r  |\n",
      "|-----+-----+-----+-----------------|\n",
      "|  1  |  1  |  1  |        1        |\n",
      "|  1  |  1  |  0  |        0        |\n",
      "|  1  |  0  |  1  |        0        |\n",
      "|  1  |  0  |  0  |        0        |\n",
      "|  0  |  1  |  1  |        0        |\n",
      "|  0  |  1  |  0  |        0        |\n",
      "|  0  |  0  |  1  |        0        |\n",
      "|  0  |  0  |  0  |        0        |\n",
      "+-----+-----+-----+-----------------+\n"
     ]
    }
   ],
   "source": [
    "print(ttg.Truths(['p', 'q', 'r'], ['p and q and r']))"
   ]
  },
  {
   "cell_type": "markdown",
   "id": "d9f4da35",
   "metadata": {},
   "source": [
    "### Ejercicio 6"
   ]
  },
  {
   "cell_type": "code",
   "execution_count": 53,
   "id": "d85fbdfe",
   "metadata": {},
   "outputs": [
    {
     "name": "stdout",
     "output_type": "stream",
     "text": [
      "+-----+-----+----------------------------------+\n",
      "|  p  |  q  |  ~(p and (~q)) and (p and (~q))  |\n",
      "|-----+-----+----------------------------------|\n",
      "|  1  |  1  |                0                 |\n",
      "|  1  |  0  |                0                 |\n",
      "|  0  |  1  |                0                 |\n",
      "|  0  |  0  |                0                 |\n",
      "+-----+-----+----------------------------------+\n"
     ]
    }
   ],
   "source": [
    "print(ttg.Truths(['p', 'q'], ['~(p and (~q)) and (p and (~q))']))"
   ]
  },
  {
   "cell_type": "markdown",
   "id": "f8b17169",
   "metadata": {},
   "source": [
    "### Ejercicio 7"
   ]
  },
  {
   "cell_type": "code",
   "execution_count": 58,
   "id": "fe5686db",
   "metadata": {},
   "outputs": [
    {
     "name": "stdout",
     "output_type": "stream",
     "text": [
      "+-----+-----+-----------------------------------+\n",
      "|  p  |  q  |  ((~p) and (~q)) or (p and (~q))  |\n",
      "|-----+-----+-----------------------------------|\n",
      "|  1  |  1  |                 0                 |\n",
      "|  1  |  0  |                 1                 |\n",
      "|  0  |  1  |                 0                 |\n",
      "|  0  |  0  |                 1                 |\n",
      "+-----+-----+-----------------------------------+\n"
     ]
    }
   ],
   "source": [
    "print(ttg.Truths(['p', 'q'], ['((~p) and (~q)) or (p and (~q))']))"
   ]
  },
  {
   "cell_type": "markdown",
   "id": "362b6c3b",
   "metadata": {},
   "source": [
    "### Ejercicio 8"
   ]
  },
  {
   "cell_type": "code",
   "execution_count": 59,
   "id": "e36bf2fd",
   "metadata": {},
   "outputs": [
    {
     "name": "stdout",
     "output_type": "stream",
     "text": [
      "+-----+-----+-----+----------------+\n",
      "|  p  |  q  |  r  |  p or q and r  |\n",
      "|-----+-----+-----+----------------|\n",
      "|  1  |  1  |  1  |       1        |\n",
      "|  1  |  1  |  0  |       1        |\n",
      "|  1  |  0  |  1  |       1        |\n",
      "|  1  |  0  |  0  |       1        |\n",
      "|  0  |  1  |  1  |       1        |\n",
      "|  0  |  1  |  0  |       0        |\n",
      "|  0  |  0  |  1  |       0        |\n",
      "|  0  |  0  |  0  |       0        |\n",
      "+-----+-----+-----+----------------+\n"
     ]
    }
   ],
   "source": [
    "print(ttg.Truths(['p', 'q', 'r'], ['p or q and r']))"
   ]
  },
  {
   "cell_type": "markdown",
   "id": "a9212203",
   "metadata": {},
   "source": [
    "### Ejercicio 9"
   ]
  },
  {
   "cell_type": "code",
   "execution_count": 60,
   "id": "1fc362b8",
   "metadata": {},
   "outputs": [
    {
     "name": "stdout",
     "output_type": "stream",
     "text": [
      "+-----+-----+----------------------------------------+\n",
      "|  p  |  q  |  ~((~p) and (~q)) and ((~p) and (~q))  |\n",
      "|-----+-----+----------------------------------------|\n",
      "|  1  |  1  |                   0                    |\n",
      "|  1  |  0  |                   0                    |\n",
      "|  0  |  1  |                   0                    |\n",
      "|  0  |  0  |                   0                    |\n",
      "+-----+-----+----------------------------------------+\n"
     ]
    }
   ],
   "source": [
    "print(ttg.Truths(['p', 'q'], ['~((~p) and (~q)) and ((~p) and (~q))']))"
   ]
  },
  {
   "cell_type": "markdown",
   "id": "5797cb7b",
   "metadata": {},
   "source": [
    "### Ejercicio 10"
   ]
  },
  {
   "cell_type": "code",
   "execution_count": 61,
   "id": "2515a216",
   "metadata": {},
   "outputs": [
    {
     "name": "stdout",
     "output_type": "stream",
     "text": [
      "+-----+-----+-----+-------------------+\n",
      "|  p  |  q  |  r  |  p or q and (~r)  |\n",
      "|-----+-----+-----+-------------------|\n",
      "|  1  |  1  |  1  |         1         |\n",
      "|  1  |  1  |  0  |         1         |\n",
      "|  1  |  0  |  1  |         1         |\n",
      "|  1  |  0  |  0  |         1         |\n",
      "|  0  |  1  |  1  |         0         |\n",
      "|  0  |  1  |  0  |         1         |\n",
      "|  0  |  0  |  1  |         0         |\n",
      "|  0  |  0  |  0  |         0         |\n",
      "+-----+-----+-----+-------------------+\n"
     ]
    }
   ],
   "source": [
    "print(ttg.Truths(['p', 'q', 'r'], ['p or q and (~r)']))"
   ]
  },
  {
   "cell_type": "markdown",
   "id": "52ddc686",
   "metadata": {},
   "source": [
    "### Ejercicio 11"
   ]
  },
  {
   "cell_type": "code",
   "execution_count": 62,
   "id": "b3227f44",
   "metadata": {},
   "outputs": [
    {
     "name": "stdout",
     "output_type": "stream",
     "text": [
      "+-----+-----+-----+----------------+\n",
      "|  p  |  q  |  r  |  p and q => r  |\n",
      "|-----+-----+-----+----------------|\n",
      "|  1  |  1  |  1  |       1        |\n",
      "|  1  |  1  |  0  |       0        |\n",
      "|  1  |  0  |  1  |       1        |\n",
      "|  1  |  0  |  0  |       1        |\n",
      "|  0  |  1  |  1  |       1        |\n",
      "|  0  |  1  |  0  |       1        |\n",
      "|  0  |  0  |  1  |       1        |\n",
      "|  0  |  0  |  0  |       1        |\n",
      "+-----+-----+-----+----------------+\n"
     ]
    }
   ],
   "source": [
    "print(ttg.Truths(['p', 'q', 'r'], ['p and q => r']))"
   ]
  },
  {
   "cell_type": "markdown",
   "id": "d6bf9da9",
   "metadata": {},
   "source": [
    "### Ejercicio 12"
   ]
  },
  {
   "cell_type": "code",
   "execution_count": 63,
   "id": "28d00a36",
   "metadata": {},
   "outputs": [
    {
     "name": "stdout",
     "output_type": "stream",
     "text": [
      "+-----+-----+-----+-------------------+\n",
      "|  p  |  q  |  r  |  p and q => (~r)  |\n",
      "|-----+-----+-----+-------------------|\n",
      "|  1  |  1  |  1  |         0         |\n",
      "|  1  |  1  |  0  |         1         |\n",
      "|  1  |  0  |  1  |         1         |\n",
      "|  1  |  0  |  0  |         1         |\n",
      "|  0  |  1  |  1  |         1         |\n",
      "|  0  |  1  |  0  |         1         |\n",
      "|  0  |  0  |  1  |         1         |\n",
      "|  0  |  0  |  0  |         1         |\n",
      "+-----+-----+-----+-------------------+\n"
     ]
    }
   ],
   "source": [
    "print(ttg.Truths(['p', 'q', 'r'], ['p and q => (~r)']))"
   ]
  },
  {
   "cell_type": "markdown",
   "id": "dcf8a21f",
   "metadata": {},
   "source": [
    "### Ejercicio 13"
   ]
  },
  {
   "cell_type": "code",
   "execution_count": 66,
   "id": "89dd5ebc",
   "metadata": {},
   "outputs": [
    {
     "name": "stdout",
     "output_type": "stream",
     "text": [
      "+-----+------------+\n",
      "|  p  |  p = (~p)  |\n",
      "|-----+------------|\n",
      "|  1  |     0      |\n",
      "|  0  |     0      |\n",
      "+-----+------------+\n"
     ]
    }
   ],
   "source": [
    "print(ttg.Truths(['p'], ['p = (~p)']))"
   ]
  },
  {
   "cell_type": "markdown",
   "id": "5cb6bea1",
   "metadata": {},
   "source": [
    "### Ejercicio 14"
   ]
  },
  {
   "cell_type": "code",
   "execution_count": 67,
   "id": "85ef13a9",
   "metadata": {},
   "outputs": [
    {
     "name": "stdout",
     "output_type": "stream",
     "text": [
      "+-----+-----+----------------------------------+\n",
      "|  p  |  q  |  ~(p and (~q)) and (p and (~q))  |\n",
      "|-----+-----+----------------------------------|\n",
      "|  1  |  1  |                0                 |\n",
      "|  1  |  0  |                0                 |\n",
      "|  0  |  1  |                0                 |\n",
      "|  0  |  0  |                0                 |\n",
      "+-----+-----+----------------------------------+\n"
     ]
    }
   ],
   "source": [
    "print(ttg.Truths(['p', 'q'], ['~(p and (~q)) and (p and (~q))']))"
   ]
  },
  {
   "cell_type": "markdown",
   "id": "7efcb42b",
   "metadata": {},
   "source": [
    "### Ejercicio 15"
   ]
  },
  {
   "cell_type": "code",
   "execution_count": 69,
   "id": "62b3b9bc",
   "metadata": {},
   "outputs": [
    {
     "name": "stdout",
     "output_type": "stream",
     "text": [
      "+-----+-----+------------------+\n",
      "|  p  |  q  |  ~(~p) or ~(~q)  |\n",
      "|-----+-----+------------------|\n",
      "|  1  |  1  |        1         |\n",
      "|  1  |  0  |        1         |\n",
      "|  0  |  1  |        1         |\n",
      "|  0  |  0  |        0         |\n",
      "+-----+-----+------------------+\n"
     ]
    }
   ],
   "source": [
    "print(ttg.Truths(['p', 'q'], ['~(~p) or ~(~q)']))"
   ]
  },
  {
   "cell_type": "markdown",
   "id": "d1f9ee95",
   "metadata": {},
   "source": [
    "### Ejercicio 16"
   ]
  },
  {
   "cell_type": "code",
   "execution_count": 70,
   "id": "039c17a8",
   "metadata": {},
   "outputs": [
    {
     "name": "stdout",
     "output_type": "stream",
     "text": [
      "+-----+-----+----------+\n",
      "|  p  |  q  |  p or q  |\n",
      "|-----+-----+----------|\n",
      "|  1  |  1  |    1     |\n",
      "|  1  |  0  |    1     |\n",
      "|  0  |  1  |    1     |\n",
      "|  0  |  0  |    0     |\n",
      "+-----+-----+----------+\n"
     ]
    }
   ],
   "source": [
    "print(ttg.Truths(['p', 'q'], ['p or q']))"
   ]
  },
  {
   "cell_type": "markdown",
   "id": "efda58b3",
   "metadata": {},
   "source": [
    "### Ejercicio 17"
   ]
  },
  {
   "cell_type": "code",
   "execution_count": 71,
   "id": "28ce9664",
   "metadata": {},
   "outputs": [
    {
     "name": "stdout",
     "output_type": "stream",
     "text": [
      "+-----+-----+-----+--------------+\n",
      "|  p  |  q  |  r  |  p = q or r  |\n",
      "|-----+-----+-----+--------------|\n",
      "|  1  |  1  |  1  |      1       |\n",
      "|  1  |  1  |  0  |      1       |\n",
      "|  1  |  0  |  1  |      1       |\n",
      "|  1  |  0  |  0  |      0       |\n",
      "|  0  |  1  |  1  |      0       |\n",
      "|  0  |  1  |  0  |      0       |\n",
      "|  0  |  0  |  1  |      0       |\n",
      "|  0  |  0  |  0  |      1       |\n",
      "+-----+-----+-----+--------------+\n"
     ]
    }
   ],
   "source": [
    "print(ttg.Truths(['p', 'q', 'r'], ['p = q or r']))"
   ]
  },
  {
   "cell_type": "markdown",
   "id": "9bc2de6f",
   "metadata": {},
   "source": [
    "### Ejercicio 18"
   ]
  },
  {
   "cell_type": "code",
   "execution_count": 75,
   "id": "742d9382",
   "metadata": {},
   "outputs": [
    {
     "name": "stdout",
     "output_type": "stream",
     "text": [
      "+-----+-----+-------------------------------------------------------+\n",
      "|  p  |  q  |  (((~p) or q) or (p and q)) => (((~p) or p) or (~p))  |\n",
      "|-----+-----+-------------------------------------------------------|\n",
      "|  1  |  1  |                           1                           |\n",
      "|  1  |  0  |                           1                           |\n",
      "|  0  |  1  |                           1                           |\n",
      "|  0  |  0  |                           1                           |\n",
      "+-----+-----+-------------------------------------------------------+\n"
     ]
    }
   ],
   "source": [
    "print(ttg.Truths(['p', 'q'], ['(((~p) or q) or (p and q)) => (((~p) or p) or (~p))']))"
   ]
  },
  {
   "cell_type": "markdown",
   "id": "87105fc9",
   "metadata": {},
   "source": [
    "### Ejercicio 19"
   ]
  },
  {
   "cell_type": "code",
   "execution_count": 77,
   "id": "1cef9410",
   "metadata": {},
   "outputs": [
    {
     "name": "stdout",
     "output_type": "stream",
     "text": [
      "+-----+-----+---------------------------------+\n",
      "|  p  |  q  |  (p or (~q)) => ((~p) => (~q))  |\n",
      "|-----+-----+---------------------------------|\n",
      "|  1  |  1  |                1                |\n",
      "|  1  |  0  |                1                |\n",
      "|  0  |  1  |                1                |\n",
      "|  0  |  0  |                1                |\n",
      "+-----+-----+---------------------------------+\n"
     ]
    }
   ],
   "source": [
    "print(ttg.Truths(['p', 'q'], ['(p or (~q)) => ((~p) => (~q))']))"
   ]
  },
  {
   "cell_type": "markdown",
   "id": "ce0523f8",
   "metadata": {},
   "source": [
    "### Ejercicio 20"
   ]
  },
  {
   "cell_type": "code",
   "execution_count": 78,
   "id": "17a631ea",
   "metadata": {},
   "outputs": [
    {
     "name": "stdout",
     "output_type": "stream",
     "text": [
      "+-----+-----+-----------------------------+\n",
      "|  p  |  q  |  (p = (~q)) or (p or (~q))  |\n",
      "|-----+-----+-----------------------------|\n",
      "|  1  |  1  |              1              |\n",
      "|  1  |  0  |              1              |\n",
      "|  0  |  1  |              1              |\n",
      "|  0  |  0  |              1              |\n",
      "+-----+-----+-----------------------------+\n"
     ]
    }
   ],
   "source": [
    "print(ttg.Truths(['p', 'q'], ['(p = (~q)) or (p or (~q))']))"
   ]
  },
  {
   "cell_type": "markdown",
   "id": "97b2d6fd",
   "metadata": {},
   "source": [
    "### Ejercicio 21"
   ]
  },
  {
   "cell_type": "code",
   "execution_count": 80,
   "id": "47c45720",
   "metadata": {},
   "outputs": [
    {
     "name": "stdout",
     "output_type": "stream",
     "text": [
      "+-----+-----+-------------------------------+\n",
      "|  p  |  q  |  ((~p) and q) or ((~p) => q)  |\n",
      "|-----+-----+-------------------------------|\n",
      "|  1  |  1  |               1               |\n",
      "|  1  |  0  |               1               |\n",
      "|  0  |  1  |               1               |\n",
      "|  0  |  0  |               0               |\n",
      "+-----+-----+-------------------------------+\n"
     ]
    }
   ],
   "source": [
    "print(ttg.Truths(['p', 'q'], ['((~p) and q) or ((~p) => q)']))"
   ]
  },
  {
   "cell_type": "markdown",
   "id": "7d263c45",
   "metadata": {},
   "source": [
    "### Ejercicio 22"
   ]
  },
  {
   "cell_type": "code",
   "execution_count": 85,
   "id": "9ececfe5",
   "metadata": {},
   "outputs": [
    {
     "name": "stdout",
     "output_type": "stream",
     "text": [
      "+-----+-----+------------+\n",
      "|  p  |  q  |  ~q or ~p  |\n",
      "|-----+-----+------------|\n",
      "|  1  |  1  |     0      |\n",
      "|  1  |  0  |     1      |\n",
      "|  0  |  1  |     1      |\n",
      "|  0  |  0  |     1      |\n",
      "+-----+-----+------------+\n"
     ]
    }
   ],
   "source": [
    "print(ttg.Truths(['p', 'q'], ['~q or ~p']))"
   ]
  },
  {
   "cell_type": "code",
   "execution_count": null,
   "id": "bd4004d0",
   "metadata": {},
   "outputs": [],
   "source": []
  }
 ],
 "metadata": {
  "kernelspec": {
   "display_name": "Python 3 (ipykernel)",
   "language": "python",
   "name": "python3"
  },
  "language_info": {
   "codemirror_mode": {
    "name": "ipython",
    "version": 3
   },
   "file_extension": ".py",
   "mimetype": "text/x-python",
   "name": "python",
   "nbconvert_exporter": "python",
   "pygments_lexer": "ipython3",
   "version": "3.11.4"
  }
 },
 "nbformat": 4,
 "nbformat_minor": 5
}
